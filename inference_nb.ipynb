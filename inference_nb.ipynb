{
  "nbformat": 4,
  "nbformat_minor": 0,
  "metadata": {
    "colab": {
      "provenance": []
    },
    "kernelspec": {
      "name": "python3",
      "display_name": "Python 3"
    },
    "language_info": {
      "name": "python"
    }
  },
  "cells": [
    {
      "cell_type": "code",
      "execution_count": 1,
      "metadata": {
        "colab": {
          "base_uri": "https://localhost:8080/"
        },
        "id": "5nBBUew6HA7o",
        "outputId": "1ed47fd4-eb22-4e3c-e558-7221a4cdc890"
      },
      "outputs": [
        {
          "output_type": "stream",
          "name": "stdout",
          "text": [
            "Archive:  topostext_ner_model.zip\n",
            "   creating: content/models/model-best/\n",
            "  inflating: content/models/model-best/config.cfg  \n",
            "  inflating: content/models/model-best/meta.json  \n",
            "   creating: content/models/model-best/vocab/\n",
            " extracting: content/models/model-best/vocab/lookups.bin  \n",
            " extracting: content/models/model-best/vocab/key2row  \n",
            "  inflating: content/models/model-best/vocab/strings.json  \n",
            " extracting: content/models/model-best/vocab/vectors.cfg  \n",
            "  inflating: content/models/model-best/vocab/vectors  \n",
            "   creating: content/models/model-best/ner/\n",
            "  inflating: content/models/model-best/ner/moves  \n",
            "  inflating: content/models/model-best/ner/model  \n",
            "  inflating: content/models/model-best/ner/cfg  \n",
            "  inflating: content/models/model-best/tokenizer  \n",
            "   creating: content/models/model-best/tok2vec/\n",
            "  inflating: content/models/model-best/tok2vec/model  \n",
            " extracting: content/models/model-best/tok2vec/cfg  \n"
          ]
        }
      ],
      "source": [
        "!unzip topostext_ner_model.zip"
      ]
    },
    {
      "cell_type": "code",
      "source": [
        "import spacy\n",
        "trained_nlp = spacy.load(\"/content/content/models/model-best\") ## not sure why unzipping gives a 'content' folder, but this should work"
      ],
      "metadata": {
        "id": "W88loStJHqXQ"
      },
      "execution_count": 5,
      "outputs": []
    },
    {
      "cell_type": "code",
      "source": [
        "## getting some interesting text\n",
        "import requests\n",
        "from bs4 import BeautifulSoup\n",
        "import pandas as pd\n",
        "\n",
        "url = 'https://www.gutenberg.org/files/830/830-h/830-h.htm' # Apollonius Rhodius' Argonautica\n",
        "soup = BeautifulSoup(requests.get(url).text)\n",
        "\n",
        "arg_dict = {}\n",
        "for i,p in enumerate(soup.find_all('p')[12:-78]):\n",
        "  arg_dict[i] = p.text\n",
        "\n",
        "arg = pd.DataFrame.from_dict(arg_dict,orient='index').rename(columns={0:'text'})"
      ],
      "metadata": {
        "id": "rq0vipKkIVET"
      },
      "execution_count": 213,
      "outputs": []
    },
    {
      "cell_type": "code",
      "source": [
        "import random\n",
        "rand_idx = random.randrange(0,len(arg))\n",
        "text = arg.text.iloc[rand_idx] ## get random text\n",
        "print(f'{rand_idx}/{len(arg)}', text, sep='\\n')"
      ],
      "metadata": {
        "colab": {
          "base_uri": "https://localhost:8080/"
        },
        "id": "SId2g2LULF-6",
        "outputId": "07b9f323-8d59-4a3b-c3c6-3d569aae53c9"
      },
      "execution_count": 233,
      "outputs": [
        {
          "output_type": "stream",
          "name": "stdout",
          "text": [
            "241/426\n",
            "\r\n",
            "“After all then, ye were not destined to leave me in your heedlessness\r\n",
            "and to wander far; but fate has turned you back. Poor wretch that I am! What a\r\n",
            "yearning for Hellas from some woeful madness seized you at the behest of your\r\n",
            "father Phrixus. Bitter sorrows for my heart did he ordain when dying. And why\r\n",
            "should ye go to the city of Orchomenus, whoever this Orchomenus is, for the\r\n",
            "sake of Athamas’ wealth, leaving your mother alone to bear her\r\n",
            "grief?”\r\n",
            "\n"
          ]
        }
      ]
    },
    {
      "cell_type": "code",
      "source": [
        "doc = trained_nlp(text)"
      ],
      "metadata": {
        "id": "BvhoEiaqJ_lS"
      },
      "execution_count": 234,
      "outputs": []
    },
    {
      "cell_type": "code",
      "source": [
        "places = []\n",
        "for ent in doc.ents:\n",
        "  if ent.label_ == 'place':\n",
        "    places.append(ent) \n",
        "    \n",
        "print(len(places), places, sep='\\t') ## if this is empty then the random text didn't have any places"
      ],
      "metadata": {
        "colab": {
          "base_uri": "https://localhost:8080/"
        },
        "id": "LNcadGWzKbLf",
        "outputId": "ca591fde-ebb8-49f8-91dc-d27a16a305df"
      },
      "execution_count": 235,
      "outputs": [
        {
          "output_type": "stream",
          "name": "stdout",
          "text": [
            "2\t[Orchomenus, Orchomenus]\n"
          ]
        }
      ]
    },
    {
      "cell_type": "code",
      "source": [
        "na = pd.read_csv('/content/names.csv') ## place name look up\n",
        "pl = pd.read_csv('/content/places.csv') ## coord look up"
      ],
      "metadata": {
        "id": "C-3HHqRxMJiN"
      },
      "execution_count": 236,
      "outputs": []
    },
    {
      "cell_type": "code",
      "source": [
        "import folium\n",
        "map = folium.Map((40,17), zoom_start=6)## should start at the average of all point, but just use this for the time being\n",
        "for place in places:\n",
        "  try:\n",
        "    id = na.loc[na['id'] == place.text.lower()].sort_values('year_after_which').iloc[0].place_id ## getting the oldest, naive disambiguation\n",
        "    lat = pl.loc[pl['id'] == id]['representative_latitude'].iloc[0]\n",
        "    lon = pl.loc[pl['id'] == id]['representative_longitude'].iloc[0]\n",
        "    folium.Marker((lat,lon)).add_to(map)\n",
        "  except IndexError:\n",
        "    print(f'{place} is not listed in Pleiades. Likely, it is not a placename.')\n",
        "map"
      ],
      "metadata": {
        "colab": {
          "base_uri": "https://localhost:8080/",
          "height": 771
        },
        "id": "uPjJvENeM9rT",
        "outputId": "3bf72d26-37b1-4639-a3be-312f7b967c37"
      },
      "execution_count": 237,
      "outputs": [
        {
          "output_type": "execute_result",
          "data": {
            "text/plain": [
              "<folium.folium.Map at 0x7fd0077eb550>"
            ],
            "text/html": [
              "<div style=\"width:100%;\"><div style=\"position:relative;width:100%;height:0;padding-bottom:60%;\"><span style=\"color:#565656\">Make this Notebook Trusted to load map: File -> Trust Notebook</span><iframe srcdoc=\"&lt;!DOCTYPE html&gt;\n",
              "&lt;head&gt;    \n",
              "    &lt;meta http-equiv=&quot;content-type&quot; content=&quot;text/html; charset=UTF-8&quot; /&gt;\n",
              "    \n",
              "        &lt;script&gt;\n",
              "            L_NO_TOUCH = false;\n",
              "            L_DISABLE_3D = false;\n",
              "        &lt;/script&gt;\n",
              "    \n",
              "    &lt;style&gt;html, body {width: 100%;height: 100%;margin: 0;padding: 0;}&lt;/style&gt;\n",
              "    &lt;style&gt;#map {position:absolute;top:0;bottom:0;right:0;left:0;}&lt;/style&gt;\n",
              "    &lt;script src=&quot;https://cdn.jsdelivr.net/npm/leaflet@1.6.0/dist/leaflet.js&quot;&gt;&lt;/script&gt;\n",
              "    &lt;script src=&quot;https://code.jquery.com/jquery-1.12.4.min.js&quot;&gt;&lt;/script&gt;\n",
              "    &lt;script src=&quot;https://maxcdn.bootstrapcdn.com/bootstrap/3.2.0/js/bootstrap.min.js&quot;&gt;&lt;/script&gt;\n",
              "    &lt;script src=&quot;https://cdnjs.cloudflare.com/ajax/libs/Leaflet.awesome-markers/2.0.2/leaflet.awesome-markers.js&quot;&gt;&lt;/script&gt;\n",
              "    &lt;link rel=&quot;stylesheet&quot; href=&quot;https://cdn.jsdelivr.net/npm/leaflet@1.6.0/dist/leaflet.css&quot;/&gt;\n",
              "    &lt;link rel=&quot;stylesheet&quot; href=&quot;https://maxcdn.bootstrapcdn.com/bootstrap/3.2.0/css/bootstrap.min.css&quot;/&gt;\n",
              "    &lt;link rel=&quot;stylesheet&quot; href=&quot;https://maxcdn.bootstrapcdn.com/bootstrap/3.2.0/css/bootstrap-theme.min.css&quot;/&gt;\n",
              "    &lt;link rel=&quot;stylesheet&quot; href=&quot;https://maxcdn.bootstrapcdn.com/font-awesome/4.6.3/css/font-awesome.min.css&quot;/&gt;\n",
              "    &lt;link rel=&quot;stylesheet&quot; href=&quot;https://cdnjs.cloudflare.com/ajax/libs/Leaflet.awesome-markers/2.0.2/leaflet.awesome-markers.css&quot;/&gt;\n",
              "    &lt;link rel=&quot;stylesheet&quot; href=&quot;https://cdn.jsdelivr.net/gh/python-visualization/folium/folium/templates/leaflet.awesome.rotate.min.css&quot;/&gt;\n",
              "    \n",
              "            &lt;meta name=&quot;viewport&quot; content=&quot;width=device-width,\n",
              "                initial-scale=1.0, maximum-scale=1.0, user-scalable=no&quot; /&gt;\n",
              "            &lt;style&gt;\n",
              "                #map_c53cd258d42a5958b538457c620ab0cc {\n",
              "                    position: relative;\n",
              "                    width: 100.0%;\n",
              "                    height: 100.0%;\n",
              "                    left: 0.0%;\n",
              "                    top: 0.0%;\n",
              "                }\n",
              "            &lt;/style&gt;\n",
              "        \n",
              "&lt;/head&gt;\n",
              "&lt;body&gt;    \n",
              "    \n",
              "            &lt;div class=&quot;folium-map&quot; id=&quot;map_c53cd258d42a5958b538457c620ab0cc&quot; &gt;&lt;/div&gt;\n",
              "        \n",
              "&lt;/body&gt;\n",
              "&lt;script&gt;    \n",
              "    \n",
              "            var map_c53cd258d42a5958b538457c620ab0cc = L.map(\n",
              "                &quot;map_c53cd258d42a5958b538457c620ab0cc&quot;,\n",
              "                {\n",
              "                    center: [40.0, 17.0],\n",
              "                    crs: L.CRS.EPSG3857,\n",
              "                    zoom: 6,\n",
              "                    zoomControl: true,\n",
              "                    preferCanvas: false,\n",
              "                }\n",
              "            );\n",
              "\n",
              "            \n",
              "\n",
              "        \n",
              "    \n",
              "            var tile_layer_3354dd4c45a1bbcafc4afd8ece22e496 = L.tileLayer(\n",
              "                &quot;https://{s}.tile.openstreetmap.org/{z}/{x}/{y}.png&quot;,\n",
              "                {&quot;attribution&quot;: &quot;Data by \\u0026copy; \\u003ca href=\\&quot;http://openstreetmap.org\\&quot;\\u003eOpenStreetMap\\u003c/a\\u003e, under \\u003ca href=\\&quot;http://www.openstreetmap.org/copyright\\&quot;\\u003eODbL\\u003c/a\\u003e.&quot;, &quot;detectRetina&quot;: false, &quot;maxNativeZoom&quot;: 18, &quot;maxZoom&quot;: 18, &quot;minZoom&quot;: 0, &quot;noWrap&quot;: false, &quot;opacity&quot;: 1, &quot;subdomains&quot;: &quot;abc&quot;, &quot;tms&quot;: false}\n",
              "            ).addTo(map_c53cd258d42a5958b538457c620ab0cc);\n",
              "        \n",
              "    \n",
              "            var marker_8cd733915954dda93bcf881302e46538 = L.marker(\n",
              "                [38.49457533333334, 22.978315],\n",
              "                {}\n",
              "            ).addTo(map_c53cd258d42a5958b538457c620ab0cc);\n",
              "        \n",
              "    \n",
              "            var marker_71c0d633c2792ab2e86d3d594ca90264 = L.marker(\n",
              "                [38.49457533333334, 22.978315],\n",
              "                {}\n",
              "            ).addTo(map_c53cd258d42a5958b538457c620ab0cc);\n",
              "        \n",
              "&lt;/script&gt;\" style=\"position:absolute;width:100%;height:100%;left:0;top:0;border:none !important;\" allowfullscreen webkitallowfullscreen mozallowfullscreen></iframe></div></div>"
            ]
          },
          "metadata": {},
          "execution_count": 237
        }
      ]
    },
    {
      "cell_type": "markdown",
      "source": [
        "# Further work:\n",
        "* consider different disambiguation technqiues\n",
        "* center map on coordinates\n",
        "* play with training data a bit\n",
        "* integration into reading environment"
      ],
      "metadata": {
        "id": "p1QiTZDkUBTd"
      }
    }
  ]
}